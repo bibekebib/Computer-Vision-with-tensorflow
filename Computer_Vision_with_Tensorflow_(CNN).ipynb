{
  "cells": [
    {
      "cell_type": "markdown",
      "metadata": {
        "id": "view-in-github",
        "colab_type": "text"
      },
      "source": [
        "<a href=\"https://colab.research.google.com/github/bibekebib/Tensorflow-basics/blob/main/Computer_Vision_with_Tensorflow_(CNN).ipynb\" target=\"_parent\"><img src=\"https://colab.research.google.com/assets/colab-badge.svg\" alt=\"Open In Colab\"/></a>"
      ]
    },
    {
      "cell_type": "code",
      "execution_count": 1,
      "metadata": {
        "id": "sWubB0KTqoV-"
      },
      "outputs": [],
      "source": [
        "import tensorflow as tf\n",
        "from tensorflow import keras\n",
        "import matplotlib.pyplot as plt\n",
        "import numpy as np\n",
        "import os\n"
      ]
    },
    {
      "cell_type": "code",
      "execution_count": 2,
      "metadata": {
        "colab": {
          "base_uri": "https://localhost:8080/"
        },
        "id": "6dqEBhntaSdH",
        "outputId": "854e9365-7aa1-4c22-a838-442aa24f1971"
      },
      "outputs": [
        {
          "output_type": "stream",
          "name": "stdout",
          "text": [
            "2.7.0\n"
          ]
        }
      ],
      "source": [
        "physical_device = tf.config.list_physical_devices('GPU')\n",
        "if len(physical_device) > 0:\n",
        "  tf.config.experimental.set_memory_growth(physical_device[0], True)\n",
        "\n",
        "print(tf.__version__)"
      ]
    },
    {
      "cell_type": "code",
      "execution_count": 3,
      "metadata": {
        "colab": {
          "base_uri": "https://localhost:8080/"
        },
        "id": "pQGtLxi4ankX",
        "outputId": "dec43556-2ea0-428d-e2bb-dcb60116b7d7"
      },
      "outputs": [
        {
          "output_type": "stream",
          "name": "stdout",
          "text": [
            "Downloading data from https://storage.googleapis.com/tensorflow/tf-keras-datasets/mnist.npz\n",
            "11493376/11490434 [==============================] - 0s 0us/step\n",
            "11501568/11490434 [==============================] - 0s 0us/step\n",
            "(60000, 28, 28) (60000,)\n",
            "(10000, 28, 28) (10000,)\n"
          ]
        }
      ],
      "source": [
        "(X_train, Y_train), (X_test, Y_test) = tf.keras.datasets.mnist.load_data()\n",
        "\n",
        "print(X_train.shape, Y_train.shape)\n",
        "print(X_test.shape, Y_test.shape)"
      ]
    },
    {
      "cell_type": "code",
      "execution_count": 4,
      "metadata": {
        "colab": {
          "base_uri": "https://localhost:8080/",
          "height": 87
        },
        "id": "lEh9F6alceQk",
        "outputId": "6c72ada8-6359-4e4b-9d4d-ced890d4b7f6"
      },
      "outputs": [
        {
          "output_type": "display_data",
          "data": {
            "image/png": "[encoded data removed]",
            "text/plain": [
              "<Figure size 432x288 with 7 Axes>"
            ]
          },
          "metadata": {
            "needs_background": "light"
          }
        }
      ],
      "source": [
        "fig,ax = plt.subplots(1,7)\n",
        "for i in range(7):\n",
        "  ax[i].imshow(X_train[i])\n",
        "  ax[i].set_title(Y_train[i])\n",
        "  ax[i].axis('off')"
      ]
    },
    {
      "cell_type": "code",
      "execution_count": 5,
      "metadata": {
        "id": "NTMbEN_Oc2ni"
      },
      "outputs": [],
      "source": [
        "X_train  = X_train.astype(np.float32)/255.0\n",
        "X_test = X_test.astype(np.float32) / 255.0\n"
      ]
    },
    {
      "cell_type": "markdown",
      "metadata": {
        "id": "2oGoTQQZfjns"
      },
      "source": [
        "# Training a dense neural network"
      ]
    },
    {
      "cell_type": "code",
      "execution_count": 6,
      "metadata": {
        "colab": {
          "base_uri": "https://localhost:8080/"
        },
        "id": "l-H4N63-fm9G",
        "outputId": "36c0937e-f71c-43fd-a6ff-a002e4c07df7"
      },
      "outputs": [
        {
          "output_type": "stream",
          "name": "stdout",
          "text": [
            "Model: \"sequential\"\n",
            "_________________________________________________________________\n",
            " Layer (type)                Output Shape              Param #   \n",
            "=================================================================\n",
            " flatten (Flatten)           (None, 784)               0         \n",
            "                                                                 \n",
            " dense (Dense)               (None, 10)                7850      \n",
            "                                                                 \n",
            "=================================================================\n",
            "Total params: 7,850\n",
            "Trainable params: 7,850\n",
            "Non-trainable params: 0\n",
            "_________________________________________________________________\n"
          ]
        }
      ],
      "source": [
        "model = keras.models.Sequential([\n",
        "                                keras.layers.Flatten(input_shape=(28,28)),\n",
        "                                keras.layers.Dense(10, activation='softmax')\n",
        "])\n",
        "\n",
        "model.summary()"
      ]
    },
    {
      "cell_type": "code",
      "execution_count": 7,
      "metadata": {
        "colab": {
          "base_uri": "https://localhost:8080/"
        },
        "id": "OfvkBmy0gY0m",
        "outputId": "a1933fd4-7b26-4429-c178-057010eac505"
      },
      "outputs": [
        {
          "output_type": "stream",
          "name": "stdout",
          "text": [
            "Digit to be predicted:  7\n"
          ]
        },
        {
          "output_type": "execute_result",
          "data": {
            "text/plain": [
              "<tf.Tensor: shape=(1, 10), dtype=float32, numpy=\n",
              "array([[0.05069043, 0.13875236, 0.10125294, 0.09453603, 0.05950064,\n",
              "        0.1369827 , 0.10136914, 0.12247037, 0.09410646, 0.10033897]],\n",
              "      dtype=float32)>"
            ]
          },
          "metadata": {},
          "execution_count": 7
        }
      ],
      "source": [
        "print('Digit to be predicted: ',Y_train[15])\n",
        "model(np.expand_dims(X_train[0],0))"
      ]
    },
    {
      "cell_type": "code",
      "execution_count": 8,
      "metadata": {
        "id": "mVIthtJ6hjqF"
      },
      "outputs": [],
      "source": [
        "model.compile(optimizer='sgd', loss='categorical_crossentropy')"
      ]
    },
    {
      "cell_type": "code",
      "execution_count": 9,
      "metadata": {
        "colab": {
          "base_uri": "https://localhost:8080/"
        },
        "id": "v1dI2A4ujF-b",
        "outputId": "ddb0bdd0-459d-4aa6-fa8c-c29154d5a4d9"
      },
      "outputs": [
        {
          "output_type": "execute_result",
          "data": {
            "text/plain": [
              "5"
            ]
          },
          "metadata": {},
          "execution_count": 9
        }
      ],
      "source": [
        "Y_train[0]"
      ]
    },
    {
      "cell_type": "code",
      "execution_count": 10,
      "metadata": {
        "id": "t-DXz9sujZ9r"
      },
      "outputs": [],
      "source": [
        "y_train_onehot = keras.utils.to_categorical(Y_train)\n",
        "y_test_onehot = keras.utils.to_categorical(Y_test)"
      ]
    },
    {
      "cell_type": "code",
      "execution_count": 11,
      "metadata": {
        "colab": {
          "base_uri": "https://localhost:8080/"
        },
        "id": "BXrYbzsfjnsI",
        "outputId": "34296478-74ad-4735-9930-89ceafefe4d1"
      },
      "outputs": [
        {
          "output_type": "execute_result",
          "data": {
            "text/plain": [
              "array([0., 0., 0., 0., 0., 1., 0., 0., 0., 0.], dtype=float32)"
            ]
          },
          "metadata": {},
          "execution_count": 11
        }
      ],
      "source": [
        "y_train_onehot[0]"
      ]
    },
    {
      "cell_type": "code",
      "execution_count": 12,
      "metadata": {
        "colab": {
          "base_uri": "https://localhost:8080/"
        },
        "id": "ipq4u5bYjqNM",
        "outputId": "8a6e2079-b876-42b9-fd91-e4f42e92a3e4"
      },
      "outputs": [
        {
          "output_type": "stream",
          "name": "stdout",
          "text": [
            "Epoch 1/5\n",
            "1875/1875 [==============================] - 3s 2ms/step - loss: 0.7783\n",
            "Epoch 2/5\n",
            "1875/1875 [==============================] - 3s 1ms/step - loss: 0.4561\n",
            "Epoch 3/5\n",
            "1875/1875 [==============================] - 3s 1ms/step - loss: 0.4031\n",
            "Epoch 4/5\n",
            "1875/1875 [==============================] - 3s 1ms/step - loss: 0.3764\n",
            "Epoch 5/5\n",
            "1875/1875 [==============================] - 3s 1ms/step - loss: 0.3597\n"
          ]
        }
      ],
      "source": [
        "hist = model.fit(X_train, y_train_onehot, epochs=5)"
      ]
    },
    {
      "cell_type": "code",
      "execution_count": 13,
      "metadata": {
        "colab": {
          "base_uri": "https://localhost:8080/",
          "height": 264
        },
        "id": "BMT-Dp-zjx85",
        "outputId": "723df828-d2d3-47ad-94bd-8dda08037dad"
      },
      "outputs": [
        {
          "output_type": "display_data",
          "data": {
            "image/png": "[encoded data removed]",
            "text/plain": [
              "<Figure size 432x288 with 1 Axes>"
            ]
          },
          "metadata": {
            "needs_background": "light"
          }
        }
      ],
      "source": [
        "\n",
        "for x in ['loss']:\n",
        "    plt.plot(hist.history[x])"
      ]
    },
    {
      "cell_type": "code",
      "execution_count": 14,
      "metadata": {
        "colab": {
          "base_uri": "https://localhost:8080/"
        },
        "id": "r-eYUBTnkheH",
        "outputId": "39269bf1-9041-4453-f94f-62a740cc1b36"
      },
      "outputs": [
        {
          "output_type": "stream",
          "name": "stdout",
          "text": [
            "Epoch 1/5\n",
            "1875/1875 [==============================] - 4s 2ms/step - loss: 0.3479 - acc: 0.9035 - val_loss: 0.3262 - val_acc: 0.9110\n",
            "Epoch 2/5\n",
            "1875/1875 [==============================] - 4s 2ms/step - loss: 0.3389 - acc: 0.9054 - val_loss: 0.3191 - val_acc: 0.9122\n",
            "Epoch 3/5\n",
            "1875/1875 [==============================] - 3s 2ms/step - loss: 0.3318 - acc: 0.9078 - val_loss: 0.3145 - val_acc: 0.9139\n",
            "Epoch 4/5\n",
            "1875/1875 [==============================] - 3s 2ms/step - loss: 0.3259 - acc: 0.9090 - val_loss: 0.3099 - val_acc: 0.9145\n",
            "Epoch 5/5\n",
            "1875/1875 [==============================] - 3s 2ms/step - loss: 0.3210 - acc: 0.9105 - val_loss: 0.3063 - val_acc: 0.9153\n"
          ]
        }
      ],
      "source": [
        "model.compile(optimizer='sgd', loss='categorical_crossentropy', metrics=['acc'])\n",
        "hist = model.fit(X_train, y_train_onehot, epochs=5, validation_data=(X_test, y_test_onehot))"
      ]
    },
    {
      "cell_type": "code",
      "execution_count": 15,
      "metadata": {
        "colab": {
          "base_uri": "https://localhost:8080/",
          "height": 264
        },
        "id": "pLNHFGe0k_-S",
        "outputId": "a8013390-5252-43de-a8c9-19807b3285ff"
      },
      "outputs": [
        {
          "output_type": "display_data",
          "data": {
            "image/png": "[encoded data removed]",
            "text/plain": [
              "<Figure size 432x288 with 1 Axes>"
            ]
          },
          "metadata": {
            "needs_background": "light"
          }
        }
      ],
      "source": [
        "for x in ['loss','val_loss', 'acc']:\n",
        "    plt.plot(hist.history[x])"
      ]
    },
    {
      "cell_type": "code",
      "execution_count": 16,
      "metadata": {
        "colab": {
          "base_uri": "https://localhost:8080/"
        },
        "id": "7o6ZXVi8lI0R",
        "outputId": "0a590ab0-ad4c-4fd8-f9cf-992ea3dea26f"
      },
      "outputs": [
        {
          "output_type": "stream",
          "name": "stdout",
          "text": [
            "Epoch 1/5\n",
            "1875/1875 [==============================] - 3s 2ms/step - loss: 0.3168 - acc: 0.9121 - val_loss: 0.3039 - val_acc: 0.9154\n",
            "Epoch 2/5\n",
            "1875/1875 [==============================] - 3s 2ms/step - loss: 0.3132 - acc: 0.9133 - val_loss: 0.2997 - val_acc: 0.9169\n",
            "Epoch 3/5\n",
            "1875/1875 [==============================] - 3s 2ms/step - loss: 0.3100 - acc: 0.9139 - val_loss: 0.2978 - val_acc: 0.9170\n",
            "Epoch 4/5\n",
            "1875/1875 [==============================] - 3s 2ms/step - loss: 0.3071 - acc: 0.9150 - val_loss: 0.2955 - val_acc: 0.9175\n",
            "Epoch 5/5\n",
            "1875/1875 [==============================] - 3s 2ms/step - loss: 0.3046 - acc: 0.9156 - val_loss: 0.2933 - val_acc: 0.9177\n"
          ]
        }
      ],
      "source": [
        "model.compile(optimizer='sgd', loss='categorical_crossentropy', metrics=['acc'])\n",
        "hist = model.fit(X_train, y_train_onehot, epochs=5, validation_data=(X_test, y_test_onehot), validation_batch_size=128)"
      ]
    },
    {
      "cell_type": "code",
      "execution_count": 17,
      "metadata": {
        "id": "YnPQiR2nlUeE"
      },
      "outputs": [],
      "source": [
        "# from sklearn.preprocessing import normalize\n",
        "# for x in ['loss','val_loss', 'val_acc']:\n",
        "#     plt.plot(np.array(hist.history[normalize(x[:,np.newaxis], axis=0)]))\n",
        "\n",
        "\n",
        "# # normalize(x[:,np.newaxis], axis=0)\n",
        "# # plt.plot(np.array(hist.history['loss'])/300)\n",
        "# # plt.plot(np.array(hist.history['val_acc']))"
      ]
    },
    {
      "cell_type": "code",
      "execution_count": 18,
      "metadata": {
        "colab": {
          "base_uri": "https://localhost:8080/",
          "height": 93
        },
        "id": "UJc09lhLldsf",
        "outputId": "ffc3d89a-9f45-43be-b3ad-91b371e58fe7"
      },
      "outputs": [
        {
          "output_type": "display_data",
          "data": {
            "image/png": "[encoded data removed]",
            "text/plain": [
              "<Figure size 1080x288 with 10 Axes>"
            ]
          },
          "metadata": {
            "needs_background": "light"
          }
        }
      ],
      "source": [
        "weight_tensor = model.layers[1].weights[0].numpy().reshape(28,28,10)\n",
        "fig,ax = plt.subplots(1,10,figsize=(15,4))\n",
        "for i in range(10):\n",
        "    ax[i].imshow(weight_tensor[:,:,i])\n",
        "    ax[i].axis('off')"
      ]
    },
    {
      "cell_type": "code",
      "execution_count": 18,
      "metadata": {
        "id": "zkMsW7QOqgRW"
      },
      "outputs": [],
      "source": [
        ""
      ]
    },
    {
      "cell_type": "markdown",
      "metadata": {
        "id": "ahNn7u72rE4X"
      },
      "source": [
        "# Multi-layer Network"
      ]
    },
    {
      "cell_type": "code",
      "execution_count": 19,
      "metadata": {
        "colab": {
          "base_uri": "https://localhost:8080/"
        },
        "id": "Dhq7WcrorJqP",
        "outputId": "e68eb107-1ac4-4c23-a26e-31967293fc5d"
      },
      "outputs": [
        {
          "output_type": "stream",
          "name": "stdout",
          "text": [
            "Model: \"sequential_1\"\n",
            "_________________________________________________________________\n",
            " Layer (type)                Output Shape              Param #   \n",
            "=================================================================\n",
            " flatten_1 (Flatten)         (None, 784)               0         \n",
            "                                                                 \n",
            " dense_1 (Dense)             (None, 100)               78500     \n",
            "                                                                 \n",
            " re_lu (ReLU)                (None, 100)               0         \n",
            "                                                                 \n",
            " dense_2 (Dense)             (None, 10)                1010      \n",
            "                                                                 \n",
            "=================================================================\n",
            "Total params: 79,510\n",
            "Trainable params: 79,510\n",
            "Non-trainable params: 0\n",
            "_________________________________________________________________\n"
          ]
        }
      ],
      "source": [
        "model = keras.models.Sequential()\n",
        "model.add(keras.layers.Flatten(input_shape=(28,28)))\n",
        "model.add(keras.layers.Dense(100))     # 784 inputs, 100 outputs\n",
        "model.add(keras.layers.ReLU())         # Activation Function\n",
        "model.add(keras.layers.Dense(10))      # 100 inputs, 10 outputs\n",
        "\n",
        "model.summary()"
      ]
    },
    {
      "cell_type": "code",
      "execution_count": 20,
      "metadata": {
        "id": "Ch1iqFhStCCe"
      },
      "outputs": [],
      "source": [
        "model.compile(loss=keras.losses.SparseCategoricalCrossentropy(from_logits=True), metrics=['acc'])"
      ]
    },
    {
      "cell_type": "code",
      "execution_count": 21,
      "metadata": {
        "colab": {
          "base_uri": "https://localhost:8080/"
        },
        "id": "3M4ukq3btYIt",
        "outputId": "7c2f3dac-0e42-4911-fa6d-ae9617720c0d"
      },
      "outputs": [
        {
          "output_type": "stream",
          "name": "stdout",
          "text": [
            "Epoch 1/5\n",
            "1875/1875 [==============================] - 7s 4ms/step - loss: 0.2738 - acc: 0.9218 - val_loss: 0.1542 - val_acc: 0.9553\n",
            "Epoch 2/5\n",
            "1875/1875 [==============================] - 6s 3ms/step - loss: 0.1316 - acc: 0.9620 - val_loss: 0.1121 - val_acc: 0.9674\n",
            "Epoch 3/5\n",
            "1875/1875 [==============================] - 6s 3ms/step - loss: 0.0972 - acc: 0.9722 - val_loss: 0.1066 - val_acc: 0.9680\n",
            "Epoch 4/5\n",
            "1875/1875 [==============================] - 6s 3ms/step - loss: 0.0802 - acc: 0.9778 - val_loss: 0.0940 - val_acc: 0.9753\n",
            "Epoch 5/5\n",
            "1875/1875 [==============================] - 6s 3ms/step - loss: 0.0683 - acc: 0.9810 - val_loss: 0.0933 - val_acc: 0.9753\n"
          ]
        }
      ],
      "source": [
        "hist = model.fit(X_train, Y_train, validation_data=(X_test, Y_test), epochs=5)"
      ]
    },
    {
      "cell_type": "code",
      "execution_count": 22,
      "metadata": {
        "colab": {
          "base_uri": "https://localhost:8080/",
          "height": 264
        },
        "id": "a_20L1a1tkHF",
        "outputId": "f1de6f58-e680-446e-c7a4-7303527b5cde"
      },
      "outputs": [
        {
          "output_type": "display_data",
          "data": {
            "image/png": "[encoded data removed]",
            "text/plain": [
              "<Figure size 432x288 with 1 Axes>"
            ]
          },
          "metadata": {
            "needs_background": "light"
          }
        }
      ],
      "source": [
        "for x in ['acc','val_acc']:\n",
        "    plt.plot(hist.history[x])"
      ]
    },
    {
      "cell_type": "code",
      "execution_count": 22,
      "metadata": {
        "id": "3-wLxYTltwHe"
      },
      "outputs": [],
      "source": [
        ""
      ]
    },
    {
      "cell_type": "markdown",
      "metadata": {
        "id": "gVGuWquZeAVB"
      },
      "source": [
        "# Convolution Neural Network"
      ]
    },
    {
      "cell_type": "code",
      "execution_count": 23,
      "metadata": {
        "colab": {
          "base_uri": "https://localhost:8080/"
        },
        "id": "1Sw4DDxNeERf",
        "outputId": "31c6f477-53e4-4de0-a036-ff0bac3093de"
      },
      "outputs": [
        {
          "output_type": "stream",
          "name": "stdout",
          "text": [
            "Model: \"sequential_2\"\n",
            "_________________________________________________________________\n",
            " Layer (type)                Output Shape              Param #   \n",
            "=================================================================\n",
            " conv2d (Conv2D)             (None, 24, 24, 9)         234       \n",
            "                                                                 \n",
            " flatten_2 (Flatten)         (None, 5184)              0         \n",
            "                                                                 \n",
            " dense_3 (Dense)             (None, 10)                51850     \n",
            "                                                                 \n",
            "=================================================================\n",
            "Total params: 52,084\n",
            "Trainable params: 52,084\n",
            "Non-trainable params: 0\n",
            "_________________________________________________________________\n"
          ]
        }
      ],
      "source": [
        "model = keras.models.Sequential([\n",
        "                                 keras.layers.Conv2D(filters = 9, kernel_size=(5,5), input_shape=(28,28,1), activation='relu'),\n",
        "                                 keras.layers.Flatten(),\n",
        "                                 keras.layers.Dense(10)\n",
        "])\n",
        "\n",
        "model.compile(loss=keras.losses.SparseCategoricalCrossentropy(from_logits=True), metrics=['acc'])\n",
        "model.summary()"
      ]
    },
    {
      "cell_type": "code",
      "source": [
        "x_train_c = np.expand_dims(X_train,3)\n",
        "x_test_c = np.expand_dims(X_test,3)\n",
        "hist = model.fit(x_train_c,Y_train,validation_data=(x_test_c,Y_test),epochs=3)"
      ],
      "metadata": {
        "id": "oW2q6QEs4OVO",
        "colab": {
          "base_uri": "https://localhost:8080/"
        },
        "outputId": "2d5e4ce0-bb80-4690-bb85-d640bc85e297"
      },
      "execution_count": 28,
      "outputs": [
        {
          "output_type": "stream",
          "name": "stdout",
          "text": [
            "Epoch 1/3\n",
            "1875/1875 [==============================] - 24s 13ms/step - loss: 0.2110 - acc: 0.9390 - val_loss: 0.0918 - val_acc: 0.9725\n",
            "Epoch 2/3\n",
            "1875/1875 [==============================] - 24s 13ms/step - loss: 0.0897 - acc: 0.9746 - val_loss: 0.0789 - val_acc: 0.9763\n",
            "Epoch 3/3\n",
            "1875/1875 [==============================] - 24s 13ms/step - loss: 0.0699 - acc: 0.9803 - val_loss: 0.0675 - val_acc: 0.9793\n"
          ]
        }
      ]
    },
    {
      "cell_type": "code",
      "source": [
        "model = keras.models.Sequential([\n",
        "                                 keras.layers.Conv2D(filters=10, kernel_size=(5,5), input_shape=(28,28,1), activation='relu'),\n",
        "                                 keras.layers.MaxPooling2D(),\n",
        "                                 keras.layers.Conv2D(filters=20, kernel_size=(5,5), activation='relu'),\n",
        "                                 keras.layers.MaxPooling2D(),\n",
        "                                 keras.layers.Flatten(),\n",
        "                                 keras.layers.Dense(10)\n",
        "])\n",
        "\n",
        "model.compile(loss=keras.losses.SparseCategoricalCrossentropy(from_logits=True), metrics=['acc'])\n",
        "model.summary()"
      ],
      "metadata": {
        "colab": {
          "base_uri": "https://localhost:8080/"
        },
        "id": "BgXesmdmaIzQ",
        "outputId": "e492bc96-828e-4c2c-c059-3cc5118dbc7f"
      },
      "execution_count": 30,
      "outputs": [
        {
          "output_type": "stream",
          "name": "stdout",
          "text": [
            "Model: \"sequential_3\"\n",
            "_________________________________________________________________\n",
            " Layer (type)                Output Shape              Param #   \n",
            "=================================================================\n",
            " conv2d_1 (Conv2D)           (None, 24, 24, 10)        260       \n",
            "                                                                 \n",
            " max_pooling2d (MaxPooling2D  (None, 12, 12, 10)       0         \n",
            " )                                                               \n",
            "                                                                 \n",
            " conv2d_2 (Conv2D)           (None, 8, 8, 20)          5020      \n",
            "                                                                 \n",
            " max_pooling2d_1 (MaxPooling  (None, 4, 4, 20)         0         \n",
            " 2D)                                                             \n",
            "                                                                 \n",
            " flatten_3 (Flatten)         (None, 320)               0         \n",
            "                                                                 \n",
            " dense_4 (Dense)             (None, 10)                3210      \n",
            "                                                                 \n",
            "=================================================================\n",
            "Total params: 8,490\n",
            "Trainable params: 8,490\n",
            "Non-trainable params: 0\n",
            "_________________________________________________________________\n"
          ]
        }
      ]
    },
    {
      "cell_type": "code",
      "source": [
        "hist = model.fit(x_train_c,Y_train,validation_data=(x_test_c,Y_test),epochs=3)"
      ],
      "metadata": {
        "colab": {
          "base_uri": "https://localhost:8080/"
        },
        "id": "9T_lWuGYgmoc",
        "outputId": "ff6c5799-7076-4313-ebe1-e487c8d60c26"
      },
      "execution_count": 31,
      "outputs": [
        {
          "output_type": "stream",
          "name": "stdout",
          "text": [
            "Epoch 1/3\n",
            "1875/1875 [==============================] - 37s 20ms/step - loss: 0.2174 - acc: 0.9363 - val_loss: 0.0737 - val_acc: 0.9781\n",
            "Epoch 2/3\n",
            "1875/1875 [==============================] - 36s 19ms/step - loss: 0.0732 - acc: 0.9780 - val_loss: 0.0489 - val_acc: 0.9851\n",
            "Epoch 3/3\n",
            "1875/1875 [==============================] - 36s 19ms/step - loss: 0.0542 - acc: 0.9840 - val_loss: 0.0423 - val_acc: 0.9862\n"
          ]
        }
      ]
    },
    {
      "cell_type": "code",
      "source": [
        "(x_train, y_train), (x_test, y_test) = keras.datasets.cifar10.load_data()\n",
        "x_train = x_train.astype(np.float32) / 255.0\n",
        "x_test = x_test.astype(np.float32) / 255.0\n",
        "\n",
        "classes = ('plane', 'car', 'bird', 'cat',\n",
        "           'deer', 'dog', 'frog', 'horse', 'ship', 'truck')"
      ],
      "metadata": {
        "colab": {
          "base_uri": "https://localhost:8080/"
        },
        "id": "wYi9yCcgg3uC",
        "outputId": "5cce3200-b358-4a0a-86f5-1af6e4970722"
      },
      "execution_count": 32,
      "outputs": [
        {
          "output_type": "stream",
          "name": "stdout",
          "text": [
            "Downloading data from https://www.cs.toronto.edu/~kriz/cifar-10-python.tar.gz\n",
            "170500096/170498071 [==============================] - 2s 0us/step\n",
            "170508288/170498071 [==============================] - 2s 0us/step\n"
          ]
        }
      ]
    },
    {
      "cell_type": "code",
      "source": [
        "model = keras.models.Sequential([\n",
        "                                 keras.layers.Conv2D(filters=6, input_shape=(32,32,3), kernel_size=5, strides=1, activation='relu'),\n",
        "                                 keras.layers.MaxPooling2D(pool_size=2, strides=2),\n",
        "                                 keras.layers.Conv2D(filters=16, kernel_size=5, strides=1, activation='relu'),\n",
        "                                 keras.layers.MaxPooling2D(pool_size=2, strides=2),\n",
        "                                 keras.layers.Flatten(),\n",
        "                                 keras.layers.Dense(120,activation='relu'),\n",
        "                                 keras.layers.Dense(84, activation='relu'),\n",
        "                                 keras.layers.Dense(10, activation='softmax')\n",
        "                                \n",
        "])\n",
        "# model.compile(optimizer = 'adam', loss = 'sparse_categorical_crossentropy', metrics = ['acc'])\n",
        "model.summary()"
      ],
      "metadata": {
        "colab": {
          "base_uri": "https://localhost:8080/"
        },
        "id": "CQ-tBN6uhfeU",
        "outputId": "45129100-4936-45eb-d0f8-89038fbbe7f3"
      },
      "execution_count": 37,
      "outputs": [
        {
          "output_type": "stream",
          "name": "stdout",
          "text": [
            "Model: \"sequential_7\"\n",
            "_________________________________________________________________\n",
            " Layer (type)                Output Shape              Param #   \n",
            "=================================================================\n",
            " conv2d_9 (Conv2D)           (None, 28, 28, 6)         456       \n",
            "                                                                 \n",
            " max_pooling2d_8 (MaxPooling  (None, 14, 14, 6)        0         \n",
            " 2D)                                                             \n",
            "                                                                 \n",
            " conv2d_10 (Conv2D)          (None, 10, 10, 16)        2416      \n",
            "                                                                 \n",
            " max_pooling2d_9 (MaxPooling  (None, 5, 5, 16)         0         \n",
            " 2D)                                                             \n",
            "                                                                 \n",
            " flatten_7 (Flatten)         (None, 400)               0         \n",
            "                                                                 \n",
            " dense_14 (Dense)            (None, 120)               48120     \n",
            "                                                                 \n",
            " dense_15 (Dense)            (None, 84)                10164     \n",
            "                                                                 \n",
            " dense_16 (Dense)            (None, 10)                850       \n",
            "                                                                 \n",
            "=================================================================\n",
            "Total params: 62,006\n",
            "Trainable params: 62,006\n",
            "Non-trainable params: 0\n",
            "_________________________________________________________________\n"
          ]
        }
      ]
    },
    {
      "cell_type": "code",
      "source": [
        "model.compile(optimizer = 'adam', loss = 'sparse_categorical_crossentropy', metrics = ['acc'])"
      ],
      "metadata": {
        "id": "T4WcXcEpijWt"
      },
      "execution_count": 38,
      "outputs": []
    },
    {
      "cell_type": "code",
      "source": [
        "hist = model.fit(x_train, y_train, validation_data=(x_test, y_test), epochs=10)"
      ],
      "metadata": {
        "colab": {
          "base_uri": "https://localhost:8080/"
        },
        "id": "GMzGbAbbjMfZ",
        "outputId": "a0ca0762-50c0-45b3-d318-78fe63f010d9"
      },
      "execution_count": 39,
      "outputs": [
        {
          "output_type": "stream",
          "name": "stdout",
          "text": [
            "Epoch 1/10\n",
            "1563/1563 [==============================] - 49s 31ms/step - loss: 1.6239 - acc: 0.4051 - val_loss: 1.4154 - val_acc: 0.4725\n",
            "Epoch 2/10\n",
            "1563/1563 [==============================] - 48s 30ms/step - loss: 1.3577 - acc: 0.5113 - val_loss: 1.3300 - val_acc: 0.5199\n",
            "Epoch 3/10\n",
            "1563/1563 [==============================] - 47s 30ms/step - loss: 1.2480 - acc: 0.5543 - val_loss: 1.2885 - val_acc: 0.5384\n",
            "Epoch 4/10\n",
            "1563/1563 [==============================] - 47s 30ms/step - loss: 1.1750 - acc: 0.5829 - val_loss: 1.2165 - val_acc: 0.5599\n",
            "Epoch 5/10\n",
            "1563/1563 [==============================] - 48s 30ms/step - loss: 1.1153 - acc: 0.6061 - val_loss: 1.2454 - val_acc: 0.5638\n",
            "Epoch 6/10\n",
            "1563/1563 [==============================] - 49s 32ms/step - loss: 1.0627 - acc: 0.6250 - val_loss: 1.1659 - val_acc: 0.5834\n",
            "Epoch 7/10\n",
            "1563/1563 [==============================] - 49s 32ms/step - loss: 1.0166 - acc: 0.6416 - val_loss: 1.1715 - val_acc: 0.5898\n",
            "Epoch 8/10\n",
            "1563/1563 [==============================] - 48s 30ms/step - loss: 0.9817 - acc: 0.6531 - val_loss: 1.1548 - val_acc: 0.6007\n",
            "Epoch 9/10\n",
            "1563/1563 [==============================] - 48s 30ms/step - loss: 0.9390 - acc: 0.6682 - val_loss: 1.1452 - val_acc: 0.6030\n",
            "Epoch 10/10\n",
            "1563/1563 [==============================] - 48s 30ms/step - loss: 0.9039 - acc: 0.6792 - val_loss: 1.1767 - val_acc: 0.6016\n"
          ]
        }
      ]
    },
    {
      "cell_type": "code",
      "source": [
        ""
      ],
      "metadata": {
        "id": "Q9Ry7T1rjZYq"
      },
      "execution_count": null,
      "outputs": []
    }
  ],
  "metadata": {
    "colab": {
      "name": "Computer Vision with Tensorflow (CNN).ipynb",
      "provenance": [],
      "authorship_tag": "ABX9TyNtNI5+MRL4dlnOoc8VavZ9",
      "include_colab_link": true
    },
    "kernelspec": {
      "display_name": "Python 3",
      "name": "python3"
    },
    "language_info": {
      "name": "python"
    }
  },
  "nbformat": 4,
  "nbformat_minor": 0
}